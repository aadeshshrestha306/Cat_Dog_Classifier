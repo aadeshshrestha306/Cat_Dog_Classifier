{
 "cells": [
  {
   "cell_type": "code",
   "execution_count": 1,
   "metadata": {},
   "outputs": [],
   "source": [
    "import numpy as np \n",
    "import pandas as pd \n",
    "import matplotlib.pyplot as plt \n",
    "import tensorflow as tf \n",
    "import os "
   ]
  },
  {
   "cell_type": "code",
   "execution_count": 2,
   "metadata": {},
   "outputs": [],
   "source": [
    "from keras.models import Sequential\n",
    "from keras.layers import Dense, Flatten, Conv2D\n",
    "from keras.preprocessing.image import ImageDataGenerator\n",
    "from PIL import Image\n",
    "import cv2 as cv "
   ]
  },
  {
   "cell_type": "markdown",
   "metadata": {},
   "source": [
    "### Data Import"
   ]
  },
  {
   "cell_type": "code",
   "execution_count": 3,
   "metadata": {},
   "outputs": [],
   "source": [
    "#path to every images for train and test\n",
    "\n",
    "cat_train = 'training_set/training_set/cats/'\n",
    "\n",
    "cat_test = 'test_set/test_set/cats/'\n",
    "\n",
    "dog_train = 'training_set/training_set/dogs/'\n",
    "\n",
    "dog_test = 'test_set/test_set/dogs/'"
   ]
  },
  {
   "cell_type": "code",
   "execution_count": 5,
   "metadata": {},
   "outputs": [
    {
     "name": "stdout",
     "output_type": "stream",
     "text": [
      "Total cats for training =  4000\n",
      "Total cats for testing =  1011\n",
      "Total dogs for training =  4005\n",
      "Total dogs for testing =  1012\n"
     ]
    }
   ],
   "source": [
    "#view total images inside every directory\n",
    "\n",
    "print(\"Total cats for training = \", len(os.listdir(cat_train)))\n",
    "print(\"Total cats for testing = \", len(os.listdir(cat_test)))\n",
    "print(\"Total dogs for training = \", len(os.listdir(dog_train)))\n",
    "print(\"Total dogs for testing = \", len(os.listdir(dog_test)))\n"
   ]
  },
  {
   "cell_type": "code",
   "execution_count": null,
   "metadata": {},
   "outputs": [],
   "source": []
  }
 ],
 "metadata": {
  "kernelspec": {
   "display_name": "Python 3",
   "language": "python",
   "name": "python3"
  },
  "language_info": {
   "codemirror_mode": {
    "name": "ipython",
    "version": 3
   },
   "file_extension": ".py",
   "mimetype": "text/x-python",
   "name": "python",
   "nbconvert_exporter": "python",
   "pygments_lexer": "ipython3",
   "version": "3.11.6"
  }
 },
 "nbformat": 4,
 "nbformat_minor": 2
}
